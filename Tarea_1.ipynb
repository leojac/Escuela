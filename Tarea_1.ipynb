{
  "nbformat": 4,
  "nbformat_minor": 0,
  "metadata": {
    "colab": {
      "provenance": []
    },
    "kernelspec": {
      "name": "python3",
      "display_name": "Python 3"
    },
    "language_info": {
      "name": "python"
    }
  },
  "cells": [
    {
      "cell_type": "markdown",
      "source": [
        "# Punto 3\n",
        "> Utilizando un cuaderno de Jupyter Notebook y el lenguaje de programación Python, realiza las siguientes operaciones:\n",
        "1.   Genera una matriz cuadrada de 4x4.\n",
        "2.   Calcula su inversa y su traspuesta.\n",
        "3.   Multiplica la matriz por un escalar.\n",
        "4.   Realiza el producto interno con una nueva matriz de dimensiones 4x2.\n"
      ],
      "metadata": {
        "id": "EwqVPC7do8dS"
      }
    },
    {
      "cell_type": "code",
      "execution_count": null,
      "metadata": {
        "id": "ODpXZ4B2jKCk"
      },
      "outputs": [],
      "source": [
        "import numpy as np"
      ]
    },
    {
      "cell_type": "code",
      "source": [
        "Matriz = np.array([[2,1,-3,2],\n",
        "                   [-4,2,4,-1],\n",
        "                   [-2,1,1,4],\n",
        "                   [1,-2,-1,-4]])\n",
        "print(Matriz)"
      ],
      "metadata": {
        "colab": {
          "base_uri": "https://localhost:8080/"
        },
        "id": "QJ047wysoSWG",
        "outputId": "67af6a79-ecc0-450a-ca1b-2bca39756368"
      },
      "execution_count": null,
      "outputs": [
        {
          "output_type": "stream",
          "name": "stdout",
          "text": [
            "[[ 2  1 -3  2]\n",
            " [-4  2  4 -1]\n",
            " [-2  1  1  4]\n",
            " [ 1 -2 -1 -4]]\n"
          ]
        }
      ]
    },
    {
      "cell_type": "code",
      "source": [
        "Matriz.shape"
      ],
      "metadata": {
        "colab": {
          "base_uri": "https://localhost:8080/"
        },
        "id": "Nnuo3eAarmo9",
        "outputId": "6858eb8d-d5fb-4899-bb72-77533dd32f19"
      },
      "execution_count": null,
      "outputs": [
        {
          "output_type": "execute_result",
          "data": {
            "text/plain": [
              "(4, 4)"
            ]
          },
          "metadata": {},
          "execution_count": 18
        }
      ]
    },
    {
      "cell_type": "markdown",
      "source": [
        "### **Se calculara la determinante (El determinante de una matriz cuadrada —matriz con el mismo número de filas que de columnas)**"
      ],
      "metadata": {
        "id": "xaLBmryXsO-T"
      }
    },
    {
      "cell_type": "code",
      "source": [
        "Determinante = np.linalg.det(Matriz)\n",
        "print(Determinante)"
      ],
      "metadata": {
        "colab": {
          "base_uri": "https://localhost:8080/"
        },
        "id": "c-AZtWFPsXSn",
        "outputId": "b6abf583-1141-4783-8c1b-9255cc64e662"
      },
      "execution_count": null,
      "outputs": [
        {
          "output_type": "stream",
          "name": "stdout",
          "text": [
            "51.999999999999986\n"
          ]
        }
      ]
    },
    {
      "cell_type": "markdown",
      "source": [
        "### **Se calculara la inversa de la matriz**\n",
        "\n"
      ],
      "metadata": {
        "id": "ZVF28hmLtNDr"
      }
    },
    {
      "cell_type": "code",
      "source": [
        "inversa = np.linalg.inv(Matriz)\n",
        "print(inversa)"
      ],
      "metadata": {
        "colab": {
          "base_uri": "https://localhost:8080/"
        },
        "id": "NoTuvj0XtSIu",
        "outputId": "d61691af-f97d-4730-f820-c4487e3aac0d"
      },
      "execution_count": null,
      "outputs": [
        {
          "output_type": "stream",
          "name": "stdout",
          "text": [
            "[[-0.32692308 -0.26923077 -0.67307692 -0.76923077]\n",
            " [ 0.32692308  0.26923077 -0.32692308 -0.23076923]\n",
            " [-0.51923077 -0.19230769 -0.48076923 -0.69230769]\n",
            " [-0.11538462 -0.15384615  0.11538462 -0.15384615]]\n"
          ]
        }
      ]
    },
    {
      "cell_type": "markdown",
      "source": [
        "### **Se calculara la inversa de la matriz**"
      ],
      "metadata": {
        "id": "ANh0580btcQD"
      }
    },
    {
      "cell_type": "code",
      "source": [
        "Traspuesta = Matriz.T\n",
        "print(Traspuesta)"
      ],
      "metadata": {
        "colab": {
          "base_uri": "https://localhost:8080/"
        },
        "id": "2uxvB1vmtggO",
        "outputId": "1f573776-ee36-4aa1-92a0-46ca3594dc73"
      },
      "execution_count": null,
      "outputs": [
        {
          "output_type": "stream",
          "name": "stdout",
          "text": [
            "[[ 2 -4 -2  1]\n",
            " [ 1  2  1 -2]\n",
            " [-3  4  1 -1]\n",
            " [ 2 -1  4 -4]]\n"
          ]
        }
      ]
    },
    {
      "cell_type": "markdown",
      "source": [
        "### **Se multiplicara por una escalar**"
      ],
      "metadata": {
        "id": "9A1JiRVgt5Oy"
      }
    },
    {
      "cell_type": "code",
      "source": [
        "Escala = 6\n",
        "Matriz_Escalar = Escala*Matriz \n",
        "print(Matriz_Escalar)"
      ],
      "metadata": {
        "colab": {
          "base_uri": "https://localhost:8080/"
        },
        "id": "xRv7mm1XuAPu",
        "outputId": "e5076f6c-2069-4ded-ba9f-dd2f18d8fa71"
      },
      "execution_count": null,
      "outputs": [
        {
          "output_type": "stream",
          "name": "stdout",
          "text": [
            "[[ 12   6 -18  12]\n",
            " [-24  12  24  -6]\n",
            " [-12   6   6  24]\n",
            " [  6 -12  -6 -24]]\n"
          ]
        }
      ]
    },
    {
      "cell_type": "markdown",
      "source": [
        "### **producto interno con una nueva matriz de dimensiones 4x2.**"
      ],
      "metadata": {
        "id": "L_YbhFCpuQXn"
      }
    },
    {
      "cell_type": "code",
      "source": [
        "Matriz_segunda = np.array([[2,1],\n",
        "                           [-4,2],\n",
        "                           [-2,1],\n",
        "                           [1,-2]])\n",
        "print(Matriz_segunda)"
      ],
      "metadata": {
        "colab": {
          "base_uri": "https://localhost:8080/"
        },
        "id": "avWmj6gEuPsf",
        "outputId": "cc0952c1-7bf1-4357-a382-19a32b8dc860"
      },
      "execution_count": null,
      "outputs": [
        {
          "output_type": "stream",
          "name": "stdout",
          "text": [
            "[[ 2  1]\n",
            " [-4  2]\n",
            " [-2  1]\n",
            " [ 1 -2]]\n"
          ]
        }
      ]
    },
    {
      "cell_type": "code",
      "source": [
        "Matriz_segunda.shape"
      ],
      "metadata": {
        "colab": {
          "base_uri": "https://localhost:8080/"
        },
        "id": "yU7Mp6CGu2mT",
        "outputId": "fd840e9c-a173-48fb-9f6a-c4f4b1719b53"
      },
      "execution_count": null,
      "outputs": [
        {
          "output_type": "execute_result",
          "data": {
            "text/plain": [
              "(4, 2)"
            ]
          },
          "metadata": {},
          "execution_count": 26
        }
      ]
    },
    {
      "cell_type": "code",
      "source": [
        "solucion_1 = inversa.dot(Matriz_segunda)\n",
        "print(solucion_1)"
      ],
      "metadata": {
        "colab": {
          "base_uri": "https://localhost:8080/"
        },
        "id": "1lIJuV5gudZ9",
        "outputId": "cae70092-d670-44d8-e9e0-2ca948165338"
      },
      "execution_count": null,
      "outputs": [
        {
          "output_type": "stream",
          "name": "stdout",
          "text": [
            "[[ 1.00000000e+00  2.22044605e-16]\n",
            " [-2.49800181e-16  1.00000000e+00]\n",
            " [-2.22044605e-16  0.00000000e+00]\n",
            " [ 0.00000000e+00  0.00000000e+00]]\n"
          ]
        }
      ]
    },
    {
      "cell_type": "markdown",
      "source": [
        "# Punto 5\n",
        "> Genera un nuevo cuaderno de Jupyter Notebook y resuelve los siguientes sistemas de ecuaciones lineales, encontrando los valores de las variables utilizando diferentes métodos:\n",
        "\n",
        "1.   ![imagen_2023-01-28_174215649.png](data:image/png;base64,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)\n",
        "2. ![image.png](data:image/png;base64,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)\n"
      ],
      "metadata": {
        "id": "nvE6MbCzwdEp"
      }
    },
    {
      "cell_type": "markdown",
      "source": [
        "### **método de ecuacion lineal**"
      ],
      "metadata": {
        "id": "q_fmtuuBxS2W"
      }
    },
    {
      "cell_type": "code",
      "source": [
        "Matriz3 = np.array([[1,2,5,-4],\n",
        "                   [5,8,1,1],\n",
        "                   [5,7,-3,2],\n",
        "                   [-1,3,9,-1]])\n",
        "\n",
        "vector3 = np.array([21,-8,14,5])\n",
        "\n",
        "print(Matriz3)\n",
        "print(\"\")\n",
        "print(vector3)"
      ],
      "metadata": {
        "colab": {
          "base_uri": "https://localhost:8080/"
        },
        "id": "Jitmmv9-8v1z",
        "outputId": "0854efbb-7789-4425-a5c4-74a319a10d79"
      },
      "execution_count": null,
      "outputs": [
        {
          "output_type": "stream",
          "name": "stdout",
          "text": [
            "[[ 1  2  5 -4]\n",
            " [ 5  8  1  1]\n",
            " [ 5  7 -3  2]\n",
            " [-1  3  9 -1]]\n",
            "\n",
            "[21 -8 14  5]\n"
          ]
        }
      ]
    },
    {
      "cell_type": "code",
      "source": [
        "x=np.linalg.solve(Matriz3,vector3)\n",
        "print(x)"
      ],
      "metadata": {
        "colab": {
          "base_uri": "https://localhost:8080/"
        },
        "id": "xlCj-7zS9ctK",
        "outputId": "9d0eab72-e6d7-4a6f-f4c4-7b5881aac9f7"
      },
      "execution_count": null,
      "outputs": [
        {
          "output_type": "stream",
          "name": "stdout",
          "text": [
            "[-57.70175439  41.31578947 -22.66666667 -27.35087719]\n"
          ]
        }
      ]
    },
    {
      "cell_type": "markdown",
      "source": [
        "### **la Regla de Cramer**"
      ],
      "metadata": {
        "id": "lrUdzBJSxTWu"
      }
    },
    {
      "cell_type": "code",
      "source": [
        "Matriz1 = np.array([[6,0,8],\n",
        "                   [2,2,1],\n",
        "                   [4,1,0]])\n",
        "\n",
        "vector2 = np.array([9,15,4])\n",
        "\n",
        "R0=np.linalg.det(Matriz1)\n",
        "\n",
        "print(Matriz1)\n",
        "print(\"\")\n",
        "print(vector2)"
      ],
      "metadata": {
        "colab": {
          "base_uri": "https://localhost:8080/"
        },
        "id": "LcUJ8phtzh1a",
        "outputId": "919d9ac7-80c7-4ed4-c65e-8905eb11a065"
      },
      "execution_count": null,
      "outputs": [
        {
          "output_type": "stream",
          "name": "stdout",
          "text": [
            "[[6 0 8]\n",
            " [2 2 1]\n",
            " [4 1 0]]\n",
            "\n",
            "[ 9 15  4]\n"
          ]
        }
      ]
    },
    {
      "cell_type": "code",
      "source": [
        "MatrizR1=np.array([vector2,Matriz1[:,1],Matriz1[:,2]])\n",
        "MatrizR2=np.array([Matriz1[:,0],vector2,Matriz1[:,2]])\n",
        "MatrizR3=np.array([Matriz1[:,0],Matriz1[:,1],vector2])\n",
        "\n",
        "R1=np.linalg.det(MatrizR1)\n",
        "R2=np.linalg.det(MatrizR2)\n",
        "R3=np.linalg.det(MatrizR3)\n",
        "\n",
        "x1=R1/R0\n",
        "x2=R2/R0\n",
        "x3=R3/R0\n",
        "\n",
        "print(x1,x2,x3)"
      ],
      "metadata": {
        "colab": {
          "base_uri": "https://localhost:8080/"
        },
        "id": "ShICJu3W6Xd6",
        "outputId": "ac70c51b-f3a2-443c-d873-9027a6ec8add"
      },
      "execution_count": null,
      "outputs": [
        {
          "output_type": "stream",
          "name": "stdout",
          "text": [
            "-0.8703703703703709 7.481481481481484 1.7777777777777772\n"
          ]
        }
      ]
    }
  ]
}