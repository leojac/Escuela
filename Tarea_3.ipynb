{
  "nbformat": 4,
  "nbformat_minor": 0,
  "metadata": {
    "colab": {
      "provenance": []
    },
    "kernelspec": {
      "name": "python3",
      "display_name": "Python 3"
    },
    "language_info": {
      "name": "python"
    }
  },
  "cells": [
    {
      "cell_type": "markdown",
      "source": [
        "# **Punto 1**\n",
        "> Utilizando un cuaderno de Jupyter Notebook y el lenguaje de programación Python, realiza las siguientes operaciones:\n",
        "1. Calcula la primera derivada de las siguientes funciones\n",
        "*   A.\tf(x) = 3x + 4e^-(4x)\n",
        "*   B.\tf(x) = 5x^(3x+1) - 8x2 - 3x\n",
        "2. Calcula la segunda derivada de las siguientes funciones:\n",
        "*   A.\tf(x) = 4x4 + 6x2 + e4x2\n",
        "*   B.\tf(x) = 1 / 2x3 + 8x"
      ],
      "metadata": {
        "id": "Kf0N61AFhkDw"
      }
    },
    {
      "cell_type": "code",
      "execution_count": null,
      "metadata": {
        "id": "IiwArgS6hGUc"
      },
      "outputs": [],
      "source": [
        "from sympy.series.sequences import expand\n",
        "import numpy as np\n",
        "import matplotlib.pyplot as plt\n",
        "import sympy as sp\n",
        "import pandas as pd\n",
        "import os\n",
        "import seaborn as sns\n",
        "x, e, y = sp.symbols('x, e, y')"
      ]
    },
    {
      "cell_type": "markdown",
      "source": [
        "# **1.1 Calcula la primera derivada de las siguientes funciones**\n",
        "*   A.\tf(x) = 3x + 4e^-(4x)\n",
        "*   B.  f(x) = 5x^(3x+1) - 8x2 - 3x"
      ],
      "metadata": {
        "id": "mEfeI6XXxG9B"
      }
    },
    {
      "cell_type": "code",
      "source": [
        "F1_1= (3*x) + (4*e**(-4*x))\n",
        "F1_2= 5*x**(3*x+1)-8*x**2-3*x\n",
        "F1_1"
      ],
      "metadata": {
        "id": "srpY8UK-oel2",
        "colab": {
          "base_uri": "https://localhost:8080/",
          "height": 39
        },
        "outputId": "3f38ec5c-49b5-43f7-d3b3-c072e4bffed0"
      },
      "execution_count": null,
      "outputs": [
        {
          "output_type": "execute_result",
          "data": {
            "text/plain": [
              "3*x + 4*e**(-4*x)"
            ],
            "text/latex": "$\\displaystyle 3 x + 4 e^{- 4 x}$"
          },
          "metadata": {},
          "execution_count": 24
        }
      ]
    },
    {
      "cell_type": "code",
      "source": [
        "F1_2"
      ],
      "metadata": {
        "id": "nXxA7MRwALcj",
        "colab": {
          "base_uri": "https://localhost:8080/",
          "height": 39
        },
        "outputId": "030953b2-c19c-4225-fb7e-70572ca7bb98"
      },
      "execution_count": null,
      "outputs": [
        {
          "output_type": "execute_result",
          "data": {
            "text/plain": [
              "-8*x**2 - 3*x + 5*x**(3*x + 1)"
            ],
            "text/latex": "$\\displaystyle - 8 x^{2} - 3 x + 5 x^{3 x + 1}$"
          },
          "metadata": {},
          "execution_count": 15
        }
      ]
    },
    {
      "cell_type": "markdown",
      "source": [
        "\n",
        "\n",
        "> # **1.1.-Derivadas**\n",
        "\n",
        "\n"
      ],
      "metadata": {
        "id": "Ig_2n41gG49i"
      }
    },
    {
      "cell_type": "code",
      "source": [
        "Funcion1_1A = sp.diff(F1_1,x)\n",
        "print(\"La primera derivada del funcion 1 es \")\n",
        "Funcion1_1A"
      ],
      "metadata": {
        "id": "6w5v6fl8GIw0",
        "colab": {
          "base_uri": "https://localhost:8080/",
          "height": 57
        },
        "outputId": "f219a45a-7c4c-4757-f903-cea25ebfd6ca"
      },
      "execution_count": null,
      "outputs": [
        {
          "output_type": "stream",
          "name": "stdout",
          "text": [
            "La primera derivada del funcion 1 es \n"
          ]
        },
        {
          "output_type": "execute_result",
          "data": {
            "text/plain": [
              "3 - 16*e**(-4*x)*log(e)"
            ],
            "text/latex": "$\\displaystyle 3 - 16 e^{- 4 x} \\log{\\left(e \\right)}$"
          },
          "metadata": {},
          "execution_count": 21
        }
      ]
    },
    {
      "cell_type": "code",
      "source": [
        "Funcion1_1B =sp.diff(F1_2,x)\n",
        "print(\"La primera derivada del funcion 2 es \")\n",
        "Funcion1_1B"
      ],
      "metadata": {
        "id": "HW60uvcbGvb2",
        "colab": {
          "base_uri": "https://localhost:8080/",
          "height": 76
        },
        "outputId": "e3816016-334f-4f14-9544-60699994bdee"
      },
      "execution_count": null,
      "outputs": [
        {
          "output_type": "stream",
          "name": "stdout",
          "text": [
            "La primera derivada del funcion 2 es \n"
          ]
        },
        {
          "output_type": "execute_result",
          "data": {
            "text/plain": [
              "-16*x + 5*x**(3*x + 1)*(3*log(x) + (3*x + 1)/x) - 3"
            ],
            "text/latex": "$\\displaystyle - 16 x + 5 x^{3 x + 1} \\left(3 \\log{\\left(x \\right)} + \\frac{3 x + 1}{x}\\right) - 3$"
          },
          "metadata": {},
          "execution_count": 22
        }
      ]
    },
    {
      "cell_type": "markdown",
      "source": [
        "#**1.2 Calcula la segunda derivada de las siguientes funciones:**\n",
        "*   A.\tf(x) = 4x4 + 6x2 + e4x2\n",
        "*   B.\tf(x) = 1 / 2x3 + 8x"
      ],
      "metadata": {
        "id": "r36FY5XKycGS"
      }
    },
    {
      "cell_type": "code",
      "source": [
        "F2_1= 4*x**4+6*x**2+e**(4*x**2)\n",
        "F2_2= (1/2)*x**3+8*x\n",
        "F2_1"
      ],
      "metadata": {
        "id": "BivPyEhSyjdN",
        "colab": {
          "base_uri": "https://localhost:8080/",
          "height": 41
        },
        "outputId": "7acba37c-f8e6-4664-993a-0648ed6a8458"
      },
      "execution_count": null,
      "outputs": [
        {
          "output_type": "execute_result",
          "data": {
            "text/plain": [
              "e**(4*x**2) + 4*x**4 + 6*x**2"
            ],
            "text/latex": "$\\displaystyle e^{4 x^{2}} + 4 x^{4} + 6 x^{2}$"
          },
          "metadata": {},
          "execution_count": 25
        }
      ]
    },
    {
      "cell_type": "code",
      "source": [
        "F2_2"
      ],
      "metadata": {
        "id": "ArQx8zeVB3yJ",
        "colab": {
          "base_uri": "https://localhost:8080/",
          "height": 39
        },
        "outputId": "5de5755b-0ac9-4fbd-c065-f86d77fbb716"
      },
      "execution_count": null,
      "outputs": [
        {
          "output_type": "execute_result",
          "data": {
            "text/plain": [
              "0.5*x**3 + 8*x"
            ],
            "text/latex": "$\\displaystyle 0.5 x^{3} + 8 x$"
          },
          "metadata": {},
          "execution_count": 26
        }
      ]
    },
    {
      "cell_type": "markdown",
      "source": [
        "\n",
        "\n",
        "> # **1.2.- Derivadas**"
      ],
      "metadata": {
        "id": "ze1ovGyYnF7o"
      }
    },
    {
      "cell_type": "code",
      "source": [
        "Funcion1_2A =sp.diff(F2_1,x,2)\n",
        "print(\"La Segunda derivada del funcion 1 es \")\n",
        "Funcion1_2A"
      ],
      "metadata": {
        "id": "lTscJxlCOuAN",
        "colab": {
          "base_uri": "https://localhost:8080/",
          "height": 66
        },
        "outputId": "1a2b5ac3-2f19-4edd-a9ba-4311c29bbd46"
      },
      "execution_count": null,
      "outputs": [
        {
          "output_type": "stream",
          "name": "stdout",
          "text": [
            "La Segunda derivada del funcion 1 es \n"
          ]
        },
        {
          "output_type": "execute_result",
          "data": {
            "text/plain": [
              "4*(16*e**(4*x**2)*x**2*log(e)**2 + 2*e**(4*x**2)*log(e) + 12*x**2 + 3)"
            ],
            "text/latex": "$\\displaystyle 4 \\left(16 e^{4 x^{2}} x^{2} \\log{\\left(e \\right)}^{2} + 2 e^{4 x^{2}} \\log{\\left(e \\right)} + 12 x^{2} + 3\\right)$"
          },
          "metadata": {},
          "execution_count": 56
        }
      ]
    },
    {
      "cell_type": "code",
      "source": [
        "Funcion1_2B =sp.diff(F2_2,x,2)\n",
        "print(\"La Segunda derivada del funcion 2 es \")\n",
        "Funcion1_2B"
      ],
      "metadata": {
        "id": "McEPkMuGOtt1",
        "colab": {
          "base_uri": "https://localhost:8080/",
          "height": 57
        },
        "outputId": "2ef42c3c-3414-4784-ae1b-cc9ce35b08de"
      },
      "execution_count": null,
      "outputs": [
        {
          "output_type": "stream",
          "name": "stdout",
          "text": [
            "La Segunda derivada del funcion 2 es \n"
          ]
        },
        {
          "output_type": "execute_result",
          "data": {
            "text/plain": [
              "3.0*x"
            ],
            "text/latex": "$\\displaystyle 3.0 x$"
          },
          "metadata": {},
          "execution_count": 57
        }
      ]
    },
    {
      "cell_type": "markdown",
      "source": [
        "# **Punto 2**\n",
        "> Utilizando un cuaderno de Jupyter Notebook y el lenguaje de programación Python, realiza las siguientes operaciones:\n",
        "1. Calcula las primeras derivadas parciales de las siguientes funciones:\n",
        "*   A.\tf(x, y) = 4x^3 y + 5y^2 - 7x\n",
        "*   B.\tf(x, y) = y^2 / 1 - e^x\n",
        "2. Calcula las segundas derivadas parciales de las siguientes funciones:\n",
        "*   A.\tf(x, y) = 3x^5 y + y^3 / 3\n",
        "*   B.\tf(x, y) = sin^-1 x^3 / (cos⁡2y)^2"
      ],
      "metadata": {
        "id": "pODelnaqkAbq"
      }
    },
    {
      "cell_type": "markdown",
      "source": [
        "# 2.1 **Calcula las primeras derivadas parciales de las siguientes funciones**\n",
        "*   A.\tf(x, y) = 4x^3 y + 5y^2 - 7x\n",
        "*   B.\tf(x, y) = y^2 / 1 - e^x"
      ],
      "metadata": {
        "id": "-xa1EViG6xW8"
      }
    },
    {
      "cell_type": "code",
      "source": [
        "F3_1= 4*(x**3)*y+5*y**2+7*x\n",
        "F3_2= y**2/(1-e**x)\n",
        "F3_1"
      ],
      "metadata": {
        "id": "a2F84P84kdYY",
        "colab": {
          "base_uri": "https://localhost:8080/",
          "height": 39
        },
        "outputId": "d84d84da-adb9-4e43-860c-d26f4a877db2"
      },
      "execution_count": null,
      "outputs": [
        {
          "output_type": "execute_result",
          "data": {
            "text/plain": [
              "4*x**3*y + 7*x + 5*y**2"
            ],
            "text/latex": "$\\displaystyle 4 x^{3} y + 7 x + 5 y^{2}$"
          },
          "metadata": {},
          "execution_count": 30
        }
      ]
    },
    {
      "cell_type": "code",
      "source": [
        "F3_2"
      ],
      "metadata": {
        "id": "mH18nKm5QBV-",
        "colab": {
          "base_uri": "https://localhost:8080/",
          "height": 55
        },
        "outputId": "0f9a08b7-8c51-4a5f-ec3a-d715ea795b88"
      },
      "execution_count": null,
      "outputs": [
        {
          "output_type": "execute_result",
          "data": {
            "text/plain": [
              "y**2/(1 - e**x)"
            ],
            "text/latex": "$\\displaystyle \\frac{y^{2}}{1 - e^{x}}$"
          },
          "metadata": {},
          "execution_count": 31
        }
      ]
    },
    {
      "cell_type": "markdown",
      "source": [
        "\n",
        "\n",
        "> # **2.1.- Derivadas**"
      ],
      "metadata": {
        "id": "9yIXcVFBR6M6"
      }
    },
    {
      "cell_type": "code",
      "source": [
        "Funcion3_1A=sp.diff(F3_1,x)\n",
        "Funcion3_1Ay=sp.diff(F3_1,y)\n",
        "Funcion3_2A=sp.diff(F3_2,x)\n",
        "Funcion3_2Ay=sp.diff(F3_2,y)\n",
        "print(\"La primera derivada de x a la funcion 1 es \")\n",
        "Funcion3_1A"
      ],
      "metadata": {
        "id": "cPzYw8m6QJN5",
        "colab": {
          "base_uri": "https://localhost:8080/",
          "height": 57
        },
        "outputId": "15e4bbf8-cf9d-4319-ba99-e0bcec58aaf5"
      },
      "execution_count": null,
      "outputs": [
        {
          "output_type": "stream",
          "name": "stdout",
          "text": [
            "La primera derivada de x a la funcion 1 es \n"
          ]
        },
        {
          "output_type": "execute_result",
          "data": {
            "text/plain": [
              "12*x**2*y + 7"
            ],
            "text/latex": "$\\displaystyle 12 x^{2} y + 7$"
          },
          "metadata": {},
          "execution_count": 35
        }
      ]
    },
    {
      "cell_type": "code",
      "source": [
        "print(\"La primera derivada de y a la funcion 1 es \")\n",
        "Funcion3_1Ay"
      ],
      "metadata": {
        "id": "urNH8iRURGIn",
        "colab": {
          "base_uri": "https://localhost:8080/",
          "height": 57
        },
        "outputId": "183b9e2b-9cf1-49b5-8928-534e42edd3c3"
      },
      "execution_count": null,
      "outputs": [
        {
          "output_type": "stream",
          "name": "stdout",
          "text": [
            "La primera derivada de y a la funcion 1 es \n"
          ]
        },
        {
          "output_type": "execute_result",
          "data": {
            "text/plain": [
              "4*x**3 + 10*y"
            ],
            "text/latex": "$\\displaystyle 4 x^{3} + 10 y$"
          },
          "metadata": {},
          "execution_count": 36
        }
      ]
    },
    {
      "cell_type": "code",
      "source": [
        "print(\"La primera derivada de x a la funcion 2 es \")\n",
        "Funcion3_2A"
      ],
      "metadata": {
        "id": "x-o1osE9QI16",
        "colab": {
          "base_uri": "https://localhost:8080/",
          "height": 79
        },
        "outputId": "ac186614-f89a-4e31-c191-27defb832909"
      },
      "execution_count": null,
      "outputs": [
        {
          "output_type": "stream",
          "name": "stdout",
          "text": [
            "La primera derivada de x a la funcion 2 es \n"
          ]
        },
        {
          "output_type": "execute_result",
          "data": {
            "text/plain": [
              "e**x*y**2*log(e)/(1 - e**x)**2"
            ],
            "text/latex": "$\\displaystyle \\frac{e^{x} y^{2} \\log{\\left(e \\right)}}{\\left(1 - e^{x}\\right)^{2}}$"
          },
          "metadata": {},
          "execution_count": 37
        }
      ]
    },
    {
      "cell_type": "code",
      "source": [
        "print(\"La primera derivada de y a la funcion 2 es \")\n",
        "Funcion3_2Ay"
      ],
      "metadata": {
        "id": "fklpXaAnRVE9",
        "colab": {
          "base_uri": "https://localhost:8080/",
          "height": 71
        },
        "outputId": "c36c0c88-dbd0-4abb-c6f6-be4067963e64"
      },
      "execution_count": null,
      "outputs": [
        {
          "output_type": "stream",
          "name": "stdout",
          "text": [
            "La primera derivada de y a la funcion 2 es \n"
          ]
        },
        {
          "output_type": "execute_result",
          "data": {
            "text/plain": [
              "2*y/(1 - e**x)"
            ],
            "text/latex": "$\\displaystyle \\frac{2 y}{1 - e^{x}}$"
          },
          "metadata": {},
          "execution_count": 38
        }
      ]
    },
    {
      "cell_type": "markdown",
      "source": [
        "# 2.2 **Calcula las segundas derivadas parciales de las siguientes funciones**\n",
        "*   A.\tf(x, y) = 3x^5 y + y^3 / 3\n",
        "*   B.\tf(x, y) = sin^-1 x^3 / (cos⁡2y)^2"
      ],
      "metadata": {
        "id": "k0xaOqio8QhS"
      }
    },
    {
      "cell_type": "code",
      "source": [
        "F3_1= 3*x**5*y + y**3 / 3\n",
        "F3_2= sp.sin(-1) * x**3/(sp.cos(2*y))**2\n",
        "F3_1"
      ],
      "metadata": {
        "id": "ZpIC4ASyTjX7",
        "colab": {
          "base_uri": "https://localhost:8080/",
          "height": 54
        },
        "outputId": "78ff3380-0821-40d4-8141-d5639cb02e53"
      },
      "execution_count": null,
      "outputs": [
        {
          "output_type": "execute_result",
          "data": {
            "text/plain": [
              "3*x**5*y + y**3/3"
            ],
            "text/latex": "$\\displaystyle 3 x^{5} y + \\frac{y^{3}}{3}$"
          },
          "metadata": {},
          "execution_count": 69
        }
      ]
    },
    {
      "cell_type": "code",
      "source": [
        "F3_2"
      ],
      "metadata": {
        "id": "d3w_RMk8aWt1",
        "colab": {
          "base_uri": "https://localhost:8080/",
          "height": 58
        },
        "outputId": "0591187a-5ef6-43a2-a0bc-c4bb236f5989"
      },
      "execution_count": null,
      "outputs": [
        {
          "output_type": "execute_result",
          "data": {
            "text/plain": [
              "-x**3*sin(1)/cos(2*y)**2"
            ],
            "text/latex": "$\\displaystyle - \\frac{x^{3} \\sin{\\left(1 \\right)}}{\\cos^{2}{\\left(2 y \\right)}}$"
          },
          "metadata": {},
          "execution_count": 66
        }
      ]
    },
    {
      "cell_type": "markdown",
      "source": [
        "\n",
        "\n",
        "> # **2.2.- Derivadas**"
      ],
      "metadata": {
        "id": "qCj-QxMFm96l"
      }
    },
    {
      "cell_type": "code",
      "source": [
        "Funcion3_3A = sp.diff((sp.diff(F3_1,x)),y)\n",
        "Funcion3_3Ax2 =sp.diff(F3_1,x,2)\n",
        "Funcion3_3Ay2 =sp.diff(F3_1,y,2)\n",
        "print(\"La  derivadas Mixta (xy) de la funcion 1 es \")\n",
        "Funcion3_3A"
      ],
      "metadata": {
        "id": "iCHaPjlAU7J-",
        "colab": {
          "base_uri": "https://localhost:8080/",
          "height": 57
        },
        "outputId": "649c8288-2b9b-4f28-bab8-07612146c831"
      },
      "execution_count": null,
      "outputs": [
        {
          "output_type": "stream",
          "name": "stdout",
          "text": [
            "La  derivadas Mixta (xy) de la funcion 1 es \n"
          ]
        },
        {
          "output_type": "execute_result",
          "data": {
            "text/plain": [
              "15*x**4"
            ],
            "text/latex": "$\\displaystyle 15 x^{4}$"
          },
          "metadata": {},
          "execution_count": 47
        }
      ]
    },
    {
      "cell_type": "code",
      "source": [
        "print(\"La segunda derivada parciales de la funcion 1 (xx) es \")\n",
        "Funcion3_3Ax2"
      ],
      "metadata": {
        "id": "twhb1yJfiB7L",
        "colab": {
          "base_uri": "https://localhost:8080/",
          "height": 57
        },
        "outputId": "947a6654-2107-41d8-da9e-193578c9f315"
      },
      "execution_count": null,
      "outputs": [
        {
          "output_type": "stream",
          "name": "stdout",
          "text": [
            "La segunda derivada parciales de la funcion 1 (xx) es \n"
          ]
        },
        {
          "output_type": "execute_result",
          "data": {
            "text/plain": [
              "60*x**3*y"
            ],
            "text/latex": "$\\displaystyle 60 x^{3} y$"
          },
          "metadata": {},
          "execution_count": 48
        }
      ]
    },
    {
      "cell_type": "code",
      "source": [
        "print(\"La segunda derivadas parciales de la funcion 1 (yy) es \")\n",
        "Funcion3_3Ay2"
      ],
      "metadata": {
        "id": "4HvSRM-ciBaz",
        "colab": {
          "base_uri": "https://localhost:8080/",
          "height": 57
        },
        "outputId": "f87aa3e6-45b3-44e7-c889-3b180d670231"
      },
      "execution_count": null,
      "outputs": [
        {
          "output_type": "stream",
          "name": "stdout",
          "text": [
            "La segunda derivadas parciales de la funcion 1 (yy) es \n"
          ]
        },
        {
          "output_type": "execute_result",
          "data": {
            "text/plain": [
              "2*y"
            ],
            "text/latex": "$\\displaystyle 2 y$"
          },
          "metadata": {},
          "execution_count": 49
        }
      ]
    },
    {
      "cell_type": "code",
      "source": [
        "Funcion3_4A =sp.diff((sp.diff(F3_2,x)),y)\n",
        "Funcion3_4Ax2 =sp.diff(F3_2,x,2)\n",
        "Funcion3_4Ay2 =sp.diff(F3_2,y,2)\n",
        "print(\"La  derivadas Mixta (xy) de la funcion 2 es \")\n",
        "Funcion3_4A"
      ],
      "metadata": {
        "id": "FF5uKeQRbxxK",
        "colab": {
          "base_uri": "https://localhost:8080/",
          "height": 76
        },
        "outputId": "c767aff0-1bef-4e2b-8e4d-4cb79e89fe5d"
      },
      "execution_count": null,
      "outputs": [
        {
          "output_type": "stream",
          "name": "stdout",
          "text": [
            "La  derivadas Mixta (xy) de la funcion 2 es \n"
          ]
        },
        {
          "output_type": "execute_result",
          "data": {
            "text/plain": [
              "-12*x**2*sin(1)*sin(2*y)/cos(2*y)**3"
            ],
            "text/latex": "$\\displaystyle - \\frac{12 x^{2} \\sin{\\left(1 \\right)} \\sin{\\left(2 y \\right)}}{\\cos^{3}{\\left(2 y \\right)}}$"
          },
          "metadata": {},
          "execution_count": 61
        }
      ]
    },
    {
      "cell_type": "code",
      "source": [
        "print(\"La segunda derivada parciales de la funcion 2 (xx) es \")\n",
        "Funcion3_4Ax2"
      ],
      "metadata": {
        "id": "_ULuTUavibno",
        "colab": {
          "base_uri": "https://localhost:8080/",
          "height": 75
        },
        "outputId": "3b175643-36a4-4f4c-f7e0-968974d06781"
      },
      "execution_count": null,
      "outputs": [
        {
          "output_type": "stream",
          "name": "stdout",
          "text": [
            "La segunda derivada parciales de la funcion 2 (xx) es \n"
          ]
        },
        {
          "output_type": "execute_result",
          "data": {
            "text/plain": [
              "-6*x*sin(1)/cos(2*y)**2"
            ],
            "text/latex": "$\\displaystyle - \\frac{6 x \\sin{\\left(1 \\right)}}{\\cos^{2}{\\left(2 y \\right)}}$"
          },
          "metadata": {},
          "execution_count": 59
        }
      ]
    },
    {
      "cell_type": "code",
      "source": [
        "print(\"La segunda derivadas parciales de la funcion 2 (yy) es \")\n",
        "Funcion3_4Ay2"
      ],
      "metadata": {
        "id": "DfJkKt3Lib9A",
        "colab": {
          "base_uri": "https://localhost:8080/",
          "height": 88
        },
        "outputId": "a1a152c2-f16b-42f8-9e9a-8209dcdfb13f"
      },
      "execution_count": null,
      "outputs": [
        {
          "output_type": "stream",
          "name": "stdout",
          "text": [
            "La segunda derivadas parciales de la funcion 2 (yy) es \n"
          ]
        },
        {
          "output_type": "execute_result",
          "data": {
            "text/plain": [
              "-8*x**3*(3*sin(2*y)**2/cos(2*y)**2 + 1)*sin(1)/cos(2*y)**2"
            ],
            "text/latex": "$\\displaystyle - \\frac{8 x^{3} \\left(\\frac{3 \\sin^{2}{\\left(2 y \\right)}}{\\cos^{2}{\\left(2 y \\right)}} + 1\\right) \\sin{\\left(1 \\right)}}{\\cos^{2}{\\left(2 y \\right)}}$"
          },
          "metadata": {},
          "execution_count": 62
        }
      ]
    },
    {
      "cell_type": "markdown",
      "source": [
        "# **Punto 3**\n",
        "> Investiga sobre diferentes implementaciones del algoritmo de propagación inversa y construye un ejemplo en Python donde se compruebe su funcionamiento."
      ],
      "metadata": {
        "id": "BWxFXUx0ENok"
      }
    },
    {
      "cell_type": "code",
      "source": [
        "# Import Libraries\n",
        "import numpy as np\n",
        "import pandas as pd\n",
        "from sklearn.datasets import load_iris\n",
        "from sklearn.model_selection import train_test_split\n",
        "import matplotlib.pyplot as plt"
      ],
      "metadata": {
        "id": "qqscMhSvEWDY"
      },
      "execution_count": null,
      "outputs": []
    },
    {
      "cell_type": "code",
      "source": [
        "# Load dataset\n",
        "data = load_iris()\n",
        "\n",
        "# Get features and target\n",
        "X=data.data\n",
        "y=data.target"
      ],
      "metadata": {
        "id": "eEE8ez7E8jSI"
      },
      "execution_count": null,
      "outputs": []
    },
    {
      "cell_type": "code",
      "source": [
        "# Get dummy variable \n",
        "y = pd.get_dummies(y).values\n",
        "\n",
        "y[:3]"
      ],
      "metadata": {
        "colab": {
          "base_uri": "https://localhost:8080/"
        },
        "id": "-uYebi9k8miK",
        "outputId": "c4a0856f-038d-4861-c130-0585bcaf0e66"
      },
      "execution_count": null,
      "outputs": [
        {
          "output_type": "execute_result",
          "data": {
            "text/plain": [
              "array([[1, 0, 0],\n",
              "       [1, 0, 0],\n",
              "       [1, 0, 0]], dtype=uint8)"
            ]
          },
          "metadata": {},
          "execution_count": 26
        }
      ]
    },
    {
      "cell_type": "code",
      "source": [
        "#Split data into train and test data\n",
        "X_train, X_test, y_train, y_test = train_test_split(X, y, test_size=0.33, random_state=42)"
      ],
      "metadata": {
        "id": "MOWOXFL1815B"
      },
      "execution_count": null,
      "outputs": []
    },
    {
      "cell_type": "code",
      "source": [
        "# Initialize variables\n",
        "learning_rate = 0.1\n",
        "iterations = 5000\n",
        "N = y_train.size\n",
        "\n",
        "# number of input features\n",
        "input_size = 4\n",
        "\n",
        "# number of hidden layers neurons\n",
        "hidden_size = 2 \n",
        "\n",
        "# number of neurons at the output layer\n",
        "output_size = 3  \n",
        "\n",
        "results = pd.DataFrame(columns=[\"mse\", \"accuracy\"])"
      ],
      "metadata": {
        "id": "dE74Uryo858j"
      },
      "execution_count": null,
      "outputs": []
    },
    {
      "cell_type": "code",
      "source": [
        "# Initialize weights\n",
        "np.random.seed(10)\n",
        "\n",
        "# initializing weight for the hidden layer\n",
        "W1 = np.random.normal(scale=0.5, size=(input_size, hidden_size))   \n",
        "\n",
        "# initializing weight for the output layer\n",
        "W2 = np.random.normal(scale=0.5, size=(hidden_size , output_size)) "
      ],
      "metadata": {
        "id": "V9p8dAz886tb"
      },
      "execution_count": null,
      "outputs": []
    },
    {
      "cell_type": "code",
      "source": [
        "def sigmoid(x):\n",
        "    return 1 / (1 + np.exp(-x))\n",
        "\n",
        "def mean_squared_error(y_pred, y_true):\n",
        "    return ((y_pred - y_true)**2).sum() / (2*y_pred.size)\n",
        "    \n",
        "def accuracy(y_pred, y_true):\n",
        "    acc = y_pred.argmax(axis=1) == y_true.argmax(axis=1)\n",
        "    return acc.mean()"
      ],
      "metadata": {
        "id": "cpP0Ou9R86nb"
      },
      "execution_count": null,
      "outputs": []
    },
    {
      "cell_type": "code",
      "source": [
        "for itr in range(iterations):    \n",
        "    \n",
        "    # feedforward propagation\n",
        "    # on hidden layer\n",
        "    Z1 = np.dot(X_train , W1)\n",
        "    A1 = sigmoid(Z1)\n",
        "\n",
        "    # on output layer\n",
        "    Z2 = np.dot(A1, W2)\n",
        "    A2 = sigmoid(Z2)\n",
        "    \n",
        "    \n",
        "    # Calculating error\n",
        "    mse = mean_squared_error(A2, y_train)\n",
        "    acc = accuracy(A2, y_train)\n",
        "    results=results.append({\"mse\":mse, \"accuracy\":acc},ignore_index=True )\n",
        "    \n",
        "    # backpropagation\n",
        "    E1 = A2 - y_train\n",
        "    dW1 = E1 * A2 * (1 - A2)\n",
        "\n",
        "    E2 = np.dot(dW1, W2.T)\n",
        "    dW2 = E2 * A1 * (1 - A1)\n",
        "\n",
        "    \n",
        "    # weight updates\n",
        "    W2_update = np.dot(A1.T, dW1) / N\n",
        "    W1_update = np.dot(X_train.T, dW2) / N\n",
        "\n",
        "    W2 = W2 - learning_rate * W2_update\n",
        "    W1 = W1 - learning_rate * W1_update"
      ],
      "metadata": {
        "id": "z6FjsmxS86Kj"
      },
      "execution_count": null,
      "outputs": []
    },
    {
      "cell_type": "code",
      "source": [
        "results.mse.plot(title=\"Mean Squared Error\")"
      ],
      "metadata": {
        "colab": {
          "base_uri": "https://localhost:8080/",
          "height": 316
        },
        "id": "nl34mLF69Ekv",
        "outputId": "1718411e-874c-4068-da00-0d8030312a95"
      },
      "execution_count": null,
      "outputs": [
        {
          "output_type": "execute_result",
          "data": {
            "text/plain": [
              "<matplotlib.axes._subplots.AxesSubplot at 0x7f612d85daf0>"
            ]
          },
          "metadata": {},
          "execution_count": 50
        },
        {
          "output_type": "stream",
          "name": "stderr",
          "text": [
            "WARNING:matplotlib.font_manager:findfont: Font family ['sans-serif'] not found. Falling back to DejaVu Sans.\n",
            "WARNING:matplotlib.font_manager:findfont: Font family ['sans-serif'] not found. Falling back to DejaVu Sans.\n"
          ]
        },
        {
          "output_type": "display_data",
          "data": {
            "text/plain": [
              "<Figure size 432x288 with 1 Axes>"
            ],
            "image/png": "[encoded data removed]"
          },
          "metadata": {
            "needs_background": "light"
          }
        }
      ]
    },
    {
      "cell_type": "code",
      "source": [
        "results.accuracy.plot(title=\"Accuracy\")"
      ],
      "metadata": {
        "colab": {
          "base_uri": "https://localhost:8080/",
          "height": 298
        },
        "id": "MWHrmlmz9EZY",
        "outputId": "9ca2a659-1fa1-4acb-c7a2-828d915dee5e"
      },
      "execution_count": null,
      "outputs": [
        {
          "output_type": "execute_result",
          "data": {
            "text/plain": [
              "<matplotlib.axes._subplots.AxesSubplot at 0x7f612d7c4c10>"
            ]
          },
          "metadata": {},
          "execution_count": 51
        },
        {
          "output_type": "display_data",
          "data": {
            "text/plain": [
              "<Figure size 432x288 with 1 Axes>"
            ],
            "image/png": "[encoded data removed]"
          },
          "metadata": {
            "needs_background": "light"
          }
        }
      ]
    },
    {
      "cell_type": "code",
      "source": [
        "Z1 = np.dot(X_test, W1)\n",
        "A1 = sigmoid(Z1)\n",
        " \n",
        "Z2 = np.dot(A1, W2)\n",
        "A2 = sigmoid(Z2)\n",
        " \n",
        "acc = accuracy(A2, y_test)\n",
        "print(\"Accuracy: {}\".format(acc))"
      ],
      "metadata": {
        "colab": {
          "base_uri": "https://localhost:8080/"
        },
        "id": "L5DAHVOm9EQx",
        "outputId": "d59d2afb-934f-45ca-ed2c-16a83120605c"
      },
      "execution_count": null,
      "outputs": [
        {
          "output_type": "stream",
          "name": "stdout",
          "text": [
            "Accuracy: 0.7\n"
          ]
        }
      ]
    },
    {
      "cell_type": "markdown",
      "source": [
        "# **Punto 4**\n",
        "> Los dispositivos electrónicos que se construían a base de transistores en la década de 1990 presentaban dos tipos de fallas principales: la fuente de alimentación y el circuito principal (tarjeta principal). Según las estadísticas de esa época, un taller promedio recibía de manera mensual un 30% de equipos con afectaciones en la fuente de alimentación y la efectividad de la reparación de un equipo era de un 75% si la falla estaba localizada en el circuito principal.\n",
        "Calcula la probabilidad de que un equipo que no tuviera reparación hubiera ingresado al taller por problemas en la tarjeta principal. Implementa tu respuesta mediante código en un Jupyter Notebook de Python.\n"
      ],
      "metadata": {
        "id": "kZh46W6XcjDK"
      }
    },
    {
      "cell_type": "code",
      "source": [
        "#30% de equipos afectados Fuente de alimentacion\n",
        "#75% de efectividad en circuito principal\n",
        "#calcular probabilidad que no sea por las anteriores\n",
        "Fallo_Alimentacion=0.30\n",
        "Fallo_Circuito=0.25\n",
        "Probabilidad=(Fallo_Alimentacion)*(Fallo_Circuito)*100\n",
        "print(\"La probabilidad es del \",Probabilidad)"
      ],
      "metadata": {
        "id": "Nx5ag5FYcVNr",
        "colab": {
          "base_uri": "https://localhost:8080/"
        },
        "outputId": "740b3d31-74a1-4a3b-fb09-598d9de87256"
      },
      "execution_count": null,
      "outputs": [
        {
          "output_type": "stream",
          "name": "stdout",
          "text": [
            "La probabilidad es del  7.5\n"
          ]
        }
      ]
    },
    {
      "cell_type": "markdown",
      "source": [
        "# **Punto 5**\n",
        "> Utilizando un cuaderno de Jupyter Notebook y el lenguaje de programación Python, realiza las siguientes operaciones:\n",
        "1. Importa a tu espacio de trabajo el siguiente dataset: https://www.kaggle.com/elikplim/forest-fires-data-set\n",
        "2. Crea un arreglo que contenga los valores de la columna etiquetada por: #temp.\n",
        "3. Construye el histograma referente al arreglo creado en el punto anterior.\n",
        "4.  Evalúa si la gráfica obtenida tiene semejanzas con la distribución normal y obtén la media, la mediana y la desviación estándar de los datos\n",
        "5.   Dibuja la gráfica de la distribución gaussiana inferida por los datos, en caso de que corresponda, y evalúa la suposición realizada en el punto anterior.\n"
      ],
      "metadata": {
        "id": "z7nCPZu8kdAA"
      }
    },
    {
      "cell_type": "code",
      "source": [
        "Datos_Completos = pd.read_csv(\"/content/forestfires.csv\")\n",
        "Columna=pd.DataFrame(Datos_Completos,columns=[\"temp\"])\n",
        "Sigma=Columna.std()\n",
        "Mu=np.mean(Columna)\n",
        "Mediana=np.median(Columna)\n",
        "#media\n",
        "print(\"La media es de \",Mu)\n",
        "#mediana\n",
        "print(\"La mediana es de \",Mediana)\n",
        "#Desvacion estandar\n",
        "print(\"La desviacion estandar es de \",Sigma)"
      ],
      "metadata": {
        "id": "Iw_Zg_Jr5McW",
        "colab": {
          "base_uri": "https://localhost:8080/"
        },
        "outputId": "52ba4def-18c2-412a-bb43-e90f4ca03a39"
      },
      "execution_count": null,
      "outputs": [
        {
          "output_type": "stream",
          "name": "stdout",
          "text": [
            "La media es de  temp    18.889168\n",
            "dtype: float64\n",
            "La mediana es de  19.3\n",
            "La desviacion estandar es de  temp    5.806625\n",
            "dtype: float64\n"
          ]
        }
      ]
    },
    {
      "cell_type": "code",
      "source": [
        "Tabla = plt.hist(Datos_Completos['temp'],15, color='Blue', ec=\"Black\", density=True)\n",
        "plt.plot(Columna,\n",
        "         1/(Sigma*np.sqrt(2*np.pi))\n",
        "         *np.exp(-0.5*((Columna-Mu)/Sigma)**2),linewidth=0.17,color='red')\n",
        "\n",
        "plt.ylabel('frequencia')\n",
        "plt.xlabel('valores')\n",
        "plt.title('Histograma temp de la BD Kaggel')\n",
        "\n",
        "plt.show()"
      ],
      "metadata": {
        "colab": {
          "base_uri": "https://localhost:8080/",
          "height": 295
        },
        "id": "ZlTO8KogejOg",
        "outputId": "ebd18fa3-c068-4ea5-c0e7-1203dde55b48"
      },
      "execution_count": null,
      "outputs": [
        {
          "output_type": "display_data",
          "data": {
            "text/plain": [
              "<Figure size 432x288 with 1 Axes>"
            ],
            "image/png": "[encoded data removed]"
          },
          "metadata": {
            "needs_background": "light"
          }
        }
      ]
    }
  ]
}