{
  "nbformat": 4,
  "nbformat_minor": 0,
  "metadata": {
    "colab": {
      "provenance": [],
      "authorship_tag": "ABX9TyOHqKzlJxHX+MIkmx3bE+Ju",
      "include_colab_link": true
    },
    "kernelspec": {
      "name": "python3",
      "display_name": "Python 3"
    },
    "language_info": {
      "name": "python"
    }
  },
  "cells": [
    {
      "cell_type": "markdown",
      "metadata": {
        "id": "view-in-github",
        "colab_type": "text"
      },
      "source": [
        "<a href=\"https://colab.research.google.com/github/leojac/leo/blob/master/actividad2.ipynb\" target=\"_parent\"><img src=\"https://colab.research.google.com/assets/colab-badge.svg\" alt=\"Open In Colab\"/></a>"
      ]
    },
    {
      "cell_type": "markdown",
      "source": [
        "# Punto 2\n",
        "> Utilizando un cuaderno de Jupyter Notebook y el lenguaje de programación Python, realiza las siguientes operaciones:\n",
        "1.   Genera dos vectores en   y represéntalos en un plano utilizando la librería Matplotlib.\n",
        "2.   Calcula el producto punto entre los vectores generados.\n",
        "3.   Calcula la longitud de ambos vectores.\n",
        "4.   Encuentra el ángulo que forman los vectores entre sí y genera un nuevo vector que sea ortogonal a cualquiera de los dos primeros."
      ],
      "metadata": {
        "id": "vrBDPoZ8DMbY"
      }
    },
    {
      "cell_type": "code",
      "source": [
        "import numpy as np\n",
        "import numpy.linalg as npl\n",
        "import matplotlib.pyplot as plt"
      ],
      "metadata": {
        "id": "Cz3TPp6IDExF"
      },
      "execution_count": null,
      "outputs": []
    },
    {
      "cell_type": "code",
      "source": [
        "Vector_1 = np.array([1, 3, 5])\n",
        "Vector_2 = np.array([2, 2, 4])"
      ],
      "metadata": {
        "id": "710yh1HnEwc2"
      },
      "execution_count": null,
      "outputs": []
    },
    {
      "cell_type": "code",
      "source": [
        "def graficarVectores(vecs,cols):\n",
        "  plt.figure(figsize=(5,5))\n",
        "  for i in range(len(vecs)):\n",
        "    vec=vecs[i]\n",
        "    plt.quiver(0,0,vec[0],vec[1],color=cols[i],angles='xy',scale_units='xy',scale=1)"
      ],
      "metadata": {
        "id": "4ycGiTzJLc-v"
      },
      "execution_count": null,
      "outputs": []
    },
    {
      "cell_type": "code",
      "source": [
        "graficarVectores([Vector_1,Vector_2],['blue','red'])\n",
        "plt.xlim(0, 3)\n",
        "plt.ylim(0, 3)\n",
        "plt.title(\"Matriz\")\n",
        "plt.legend([\"Vector 1\",\"Vector 2\"]);\n",
        "plt.grid()"
      ],
      "metadata": {
        "colab": {
          "base_uri": "https://localhost:8080/",
          "height": 336
        },
        "id": "A6qw6CrpFMis",
        "outputId": "b06c124e-18c2-425a-962e-42bc250908ca"
      },
      "execution_count": null,
      "outputs": [
        {
          "output_type": "display_data",
          "data": {
            "text/plain": [
              "<Figure size 360x360 with 1 Axes>"
            ],
            "image/png": "[encoded data removed]"
          },
          "metadata": {
            "needs_background": "light"
          }
        }
      ]
    },
    {
      "cell_type": "code",
      "source": [
        "Producto_punto=np.dot(Vector_1,Vector_2)\n",
        "print(Producto_punto)"
      ],
      "metadata": {
        "colab": {
          "base_uri": "https://localhost:8080/"
        },
        "id": "fTfuEkXEFsRF",
        "outputId": "82e476a8-009c-4bee-c41c-905e6394c4e9"
      },
      "execution_count": null,
      "outputs": [
        {
          "output_type": "stream",
          "name": "stdout",
          "text": [
            "28\n"
          ]
        }
      ]
    },
    {
      "cell_type": "code",
      "source": [
        "Longitud_1_vector=np.linalg.norm(Vector_1)\n",
        "Longitud_2_vector=np.linalg.norm(Vector_2)\n",
        "print(Longitud_1_vector)\n",
        "print(Longitud_2_vector)\n"
      ],
      "metadata": {
        "colab": {
          "base_uri": "https://localhost:8080/"
        },
        "id": "CUlOEY0QF_VG",
        "outputId": "435a441b-e493-46ab-cd77-ad7264a610d1"
      },
      "execution_count": null,
      "outputs": [
        {
          "output_type": "stream",
          "name": "stdout",
          "text": [
            "5.916079783099616\n",
            "4.898979485566356\n"
          ]
        }
      ]
    },
    {
      "cell_type": "code",
      "source": [
        "Angulo=np.arccos(np.dot(Vector_1,Vector_2)/(np.linalg.norm(Vector_1)*np.linalg.norm(Vector_2))) \n",
        "print(Angulo)"
      ],
      "metadata": {
        "colab": {
          "base_uri": "https://localhost:8080/"
        },
        "id": "CYQKKJl6G9PY",
        "outputId": "264f7c79-0025-4716-fee9-aae611d35d61"
      },
      "execution_count": null,
      "outputs": [
        {
          "output_type": "stream",
          "name": "stdout",
          "text": [
            "0.2611574109030244\n"
          ]
        }
      ]
    },
    {
      "cell_type": "markdown",
      "source": [
        "# Punto 3\n",
        "> Sea el vector base ![image.png](data:image/png;base64,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) que genera el subespacio unidimensional ![image.png](data:image/png;base64,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). Encuentra el valor de la coordenada  ,![image.png](data:image/png;base64,iVBORw0KGgoAAAANSUhEUgAAAA4AAAAhCAMAAADebGoAAAAAAXNSR0IArs4c6QAAAARnQU1BAACxjwv8YQUAAAJSUExURQAAAP///6r/////AP///wD////MAP//gMT///////C0LQAAAAAARwBH/1Wc43EOAP/JQ///hsj////pkP//////9P//zP/3hACD/wBOzQBV1QBx6gdx4w6O/xWO/xyc/yuc+Dm4/0Cx/zCs/43r///TV8T//2fO/1P6/zts2M66p///8P/nav//z/+zZP/ji/+BAPukMw4rbA42lyAABz0OAHq+7YW++KxEC7RIAP+FAP/////cev+6O6bJv/+mKf+8Tv/jjf/Yif/9qshlDLPn/3B92P+nQP///aTy/8qwqJ/1//HbkfXildepTvfIb0y+9W7K9f/ijQAAAAAAQl2X0X45Df/cj+PGkA1jtFus+S+R6jGP5TCQ5DOR4zeU4zuW5j6a6wBfuA9xzhd3zzOT5//tveunUUKe6oHU+/WqXDeW4FuK4MO9tP//x//ZlqhhFs7Ins99NBolXWOk25pOJCkLKFgmDa5aFDhWmJLA68RyB+L6/s6MPee7dMqJPzNFetC0ocqSXt+ZReqtaNeZUJleENicTj+Luc+OMTwoC96aT8bfulqc0odSNCBopyMpMyM8cCopcC5onjBkjjQUQDRCXDdqxTd8xjoqOztCVDtQc0QbGVGPwFVFNlpYXV9AVGCFl2E4MWM0MWeWvmqChmuOnW6Hkm6Jk3aaqnuorn1oW3+ftIA9N4Cgr4FAD4Weo4aVnYyKuIygqo6anppgUJxaM5yBYZ6osaB/cqJvLam93Lfh/76DRcOnhsO2icfe8cucW8yWYNekW+Gndv/aeUscHiAAAACPdFJOUwABAwMDBAUMDQ0REhISEhITExcXFxgZHyEkJCQkJCQkJCQkJSYpKy8xNDQ0NTVAQEFGR0dHR0dHR0dHR0lKUFBbZWhpanV2d3d5gYWWmJqanp6hoqKioqKlsLO5vb6+vr6+v7+/v8LExcjKzM3Nzc7Q1dbe3t7f4ODi4uLi5ubo6+vs7Ozt7/H09fr7/P3+jqcdbgAAAAlwSFlzAAAXEQAAFxEByibzPwAAAQpJREFUKFNjoDJg5uLn5uHjYIJydfzCgkNCPYXAHHb9iH07581ckqkC5ooHNW7avX/X8gxlMFfQ0cvNNbxzabI0mAsG9q3LkqSgbCCwbVmZJAllA4Fh84YUGSibgUHApW1FqjyUw8DmXtA1JVERyhNzKlo/oT9BCcxh4XSu65szf268Apgr4pG/d9a07Wvi5MBc0bQjiyevOrglVhbMVU3fOqm35/DGGAkQT9e/YsH0QN/2zdG8QJ62z6FFDVEaBrXrsu20NBnymtZOjFRntapf2FGYm8NwdNvUGQEMDA7dq2fvOLCHobq8uMSbgcEmq7SssqqGwdLUyEyNkUFYz8LE2NwaZDYdAAMDAOSnTJK4NjeeAAAAAElFTkSuQmCC) la proyección ![image.png](data:image/png;base64,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) y la matriz ![image.png](data:image/png;base64,iVBORw0KGgoAAAANSUhEUgAAABwAAAAcCAYAAAByDd+UAAAAAXNSR0IArs4c6QAAAARnQU1BAACxjwv8YQUAAAAJcEhZcwAAFxEAABcRAcom8z8AAASASURBVEhL7ZV7TJNXGMYPCnNSpmJRrgNWdNbLsnFPABHUEDdv47Kqg1hBhQxi0TlgpDgUr5mbDl0sDAl1QBN0ShkboOxCYEzYVCgWEBFUGLdxK6MU1PU8Ox012R+SYSVLlvhL3j++nvO8T8/7nu/9yHOe8/+B3hO/0pu39b21Xvyd7FE4YfCWC/fmKYR9lAoppS+z3wyD3vvAuy9HUL5jtZ3KwoyAkGkgJuawclwEZxcXOL+xGA4WZuDaLENgQhpkinY0D2oPjlBqB2C6Ps3kQUvC7AHpW77nI168ttONGRrNAeFtR9TnpVA0NEBZk4/MHa7wn8sB184FfIEEadVD/eykacxwtj7N5GEiPh7cPKY85tES5cQMOfYgK1MRdF4tY6ULo3RYUCu2vSZy1p1eF5twoLgPdZRWsHXueJangNJHGx9qftZW7QuEzzSCGbavwjI6HySudcP4evOahpSFv8bqTk9MQKZvxqGi3mcwfFS3dvS3LFXWZh84EmPM4wdAmHcf2WN0N6UqwcOews6v45dTL2Ndua0xf81nSB0vabpBJaVtR9YMFEb1R65ygjGZC2t+HE7e6EXvwz+7xrrknRU5oVjnzgXH6AXYLA5DZK4SOYPaQxp2Uw27NEWePs2n/Pve9rJkJTOG6cxlWBGyBaJYEUSRwfBz9YC96zq8I/4C+zKq1V/eGUsuBez18qeD9cBDe+34p0WiBeoVDmYgs9iFsXptkC3JWUjHw1PqEJAiTb06LL0+SlOYhqPTGgSlmlOaRhlO+81h/SMwcd+Gl2LLlCYp9Uv1W6YWSpskwzUS7LXh6LqPBZuSISjQ1h0FePotUwvtTP+4PicS7mam7MLMgn9MBo42UOUFSqf+hKwXQloVXSrfvQSmM9j7RewR+GEhMn+niu8otdVvmxBK++wovbj5XDxPOO9Js/dxcL2jSEzZ+wQjNbgpDUa0B+vd3xPEBr7b0pBUOdBRrHogYH+I5ZmYsaHr64d6cjXytFD48iww34wDC1tHOPIXgWdtCStjczjw+Ji/KkLNDG8RzTcRiA9aCPMZj0eWCcysA+CTcOVBcftIKzMMG0/9ZHrLUtffvXp2rK6lAqcS4xEXsBFiaQlKm6pQ+IkY0U6ROHLmMo6V/ZJPYn50I20HbcL9F5iGM+0/wi7cPiR7x+X7I3uYoYsu8UTczt5l13Dl7M5+baPip/N5SN0uQVUPGwVog7LwDFYHZqn356lOsjyv6yXPDstuROmF/OvfF2Nr2Lfdlyq7s7TVSZXydBFsE4sGiUfr1JnpAPty0hZxQdkPBfDac7X+QG5tcPMuS0m6eCM2SGo14V8Nbv9DWb6k+V+qNSmYmRE9Z8PtzvAqkWaewBZZ+2hN1916xUHvrn3vrkJ0disuljR3tClvNN2htFEvMxwg11VV8dGFjKCVmrg4NmdrR1U31T0nlElLyw+/aQu/kOPYf2kY8rqO28wwTi8zHEplboOVh3ITvENkQYIs6ekempgMmDZsIgGHfYnUfKan1C35ljT0Bg3RS/5LCPkLkKuPVXPtcH8AAAAASUVORK5CYII=) para proyectar sobre el subespacio ![image.png](data:image/png;base64,iVBORw0KGgoAAAANSUhEUgAAABUAAAAhCAYAAAA2/OAtAAAAAXNSR0IArs4c6QAAAARnQU1BAACxjwv8YQUAAAAJcEhZcwAAFxEAABcRAcom8z8AAAU8SURBVEhL7ZVrUBNXFMdXoVLaSqvYMoK1Aj5AQBBBpRB5RNlCAUWBKgEhGsYHWsSoDFigBSsUwahRI/EB8lJDUcQHoK0oatSpCCGUIMoaIlrlFaQBEeGcLmEtnenX9hu/mfvlnv/577n37J4lRhnlfwAAPgX1OTZ1chW5wkrHR1+HCKS3l9GLJAgDkrVKQMbcUHuIAEy0Cf9AFm1vkxoeTpovFZCR+XLyJQBJIKIuqKu4PdWS+uq82Gbu4hnUR3pEA61v1NXVocaMmUGxI04oU6q6a88DBA1bEUN5Y9XJc0xvrp+Xtc3Pn5pGplNRpxXKNgAVXWVeWuXPWbdLxOfxzrX7mJwa32ZkOGGf54LxV/krXXCmHQcDUn7DS2rEBoBoxpPOe+zRVSs4Whq+oD3IYiEaLcrA5Jsa+lmIxCspH48kJ6F3aGF/QkHno+vdIKCvwxOk/um39nKQ5Gag115FR2XHm0p634/xpE2rv1MrDmJBoANajTPHCaw03FREtbQDVBFXedMxfmsM2u+QPnfKhI0aAB+Al/maSxseZa9zRR9+Ns4XdZQUtgKLLmIS40mbXk7svJuEgq+t0XqqO1qsL37tJ+naQx/fgchkG+APCal0NQ3tRCJ8CVBvD5pyZZ0wEiOdPTA0tRyDpXCY8fob6BbGqs5sHNjsOg9tWJtwxTGFZm0dcLXB/WFW1I9JAio8vb7i4ziwh554x7c1ifU5vBD0sY3EnYVNmPMaci4DGGgTGPruBm+r3uMzsMzWDW39hZhwq3WwGCBKGxRGOZHpqYfJjal1LsRk/AAr5rg8zfJqiGP7ov3c3Zh2qxOlAAVdABO1CQxP0sZvPRVuMsAycUXnsLMopjRYC8BnwiMA9DoNSmMzbsTYtAawfHESW6zmX/mjXAbAo5v04bAGjADafJ+J3SR7vccP2lgGoBW3XCl63J3fBLBEa/QOWmwI0Hm854FIc2q15SDLMwR111xUTN3d4vMM6RMgjhnSIfa7wKBC+qJoc2/CElM0941Dvch7xZ753RaNAHpas3cA9EwBaCx9IzuEQncLdF28Gad8/0BGJGrsGYkWgNol0FbcohBzkTNnFs7kCNEo5WkeMQX0GckIAM3G0F9WSJ3nY6z1dPzKOxE9jz6vW1wJroxEC2KuG8h3/V7EJ3H+tAXoHFWEgZd6JZx6mMxIRgC4YoyvsiW1J8KQN9sUvTkC5JYMynkPgcVItEDrdhaURsgPrvZEs1nBuPLQfTzwHM7kAHzGSEYAKDbGjsOSB6KVyLH6Av0ijuC316CG14J2jEQL3rO1U6XNrolzdUBTq+0YXdKMpQC5/7rPIQCkJvBnwQXqzHpcM+NzdPROxhXnBpoyB2Ad3UQHuuMO/SfXOJQEEOv2+RJNbPOZaOYixIz7r/EpdF7t+4XvdVR0wDm4DNwZyyFTlQkMVJx9cWUnxlpOQ2OzYLT+SdZ3/BnQRUAV3fGq5pyYKrG/YWPQQqLvE/O5OHV5LmbW9OGr1souZX6w/MgxcU1IKdQylkOm7Qb0kAjpuptUci3SHXn0J2rhsQG5KSLMyj+LeRXX8favFSi7cAglohD8ZrkbWs4LxcAt+zH7dCGWlmWhoOhiY2gZZDGWw9Dvog4o49lvz629UcRdSNmN1Xkybpxes76hmWqi1xZVVI5M9bC1vbmXKnhyKnoRNXfse5SOrgk12zdJuTr3zsOddd0RYRX4PmM3Aj0y9aEh1lm+w5F01E5+Zk0OIpeefKmd7AA1pHyX20h81g7SKfcFm0v/QYY8RhnlP4Ug/gKXpw3hkouvuAAAAABJRU5ErkJggg==) el vector ![image.png](data:image/png;base64,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) Utiliza un cuaderno de Jupyter Notebook para elaborar tu respuesta."
      ],
      "metadata": {
        "id": "SM-a01FODOsS"
      }
    },
    {
      "cell_type": "code",
      "source": [
        "b = np.vstack([5,3])\n",
        "x = np.vstack([-2,7])\n",
        "print(b)\n",
        "print(x)"
      ],
      "metadata": {
        "colab": {
          "base_uri": "https://localhost:8080/"
        },
        "id": "jY_lb3M7DzKm",
        "outputId": "6e8a5741-2729-4fc4-f3e6-a707e6cfe275"
      },
      "execution_count": null,
      "outputs": [
        {
          "output_type": "stream",
          "name": "stdout",
          "text": [
            "[[5]\n",
            " [3]]\n",
            "[[-2]\n",
            " [ 7]]\n"
          ]
        }
      ]
    },
    {
      "cell_type": "markdown",
      "source": [
        "### **Valor cordenada**"
      ],
      "metadata": {
        "id": "RmrKvCSeOLO8"
      }
    },
    {
      "cell_type": "code",
      "source": [
        "lambd = np.dot(b.T,x)/npl.norm(b)**2 # b^T x / ||b||^2;\n",
        "print(lambd)"
      ],
      "metadata": {
        "colab": {
          "base_uri": "https://localhost:8080/"
        },
        "id": "i0X_jA1BXe0l",
        "outputId": "d703d55b-1a60-415f-a7a0-92d424641fbc"
      },
      "execution_count": null,
      "outputs": [
        {
          "output_type": "stream",
          "name": "stdout",
          "text": [
            "[[0.32352941]]\n"
          ]
        }
      ]
    },
    {
      "cell_type": "markdown",
      "source": [
        "### **Proyeccion**"
      ],
      "metadata": {
        "id": "YnyKuo0NOLyT"
      }
    },
    {
      "cell_type": "code",
      "source": [
        "vector_proyectado = b*lambd\n",
        "print(vector_proyectado)"
      ],
      "metadata": {
        "colab": {
          "base_uri": "https://localhost:8080/"
        },
        "id": "pE587LERXqSj",
        "outputId": "54849d2c-7f94-4f2b-a19b-a26f2544ec2d"
      },
      "execution_count": null,
      "outputs": [
        {
          "output_type": "stream",
          "name": "stdout",
          "text": [
            "[[1.61764706]\n",
            " [0.97058824]]\n"
          ]
        }
      ]
    },
    {
      "cell_type": "markdown",
      "source": [
        "### **Matriz para proyectar sobre el subespacio**"
      ],
      "metadata": {
        "id": "Os5Uo29rOMJs"
      }
    },
    {
      "cell_type": "code",
      "source": [
        "matriz_proyeccion = np.dot(b,b.T)/npl.norm(b)**2 #bb^T/||b||^2\n",
        "print(matriz_proyeccion)"
      ],
      "metadata": {
        "colab": {
          "base_uri": "https://localhost:8080/"
        },
        "id": "TMwjDHx9X80F",
        "outputId": "3cfdc9a9-2bd5-49b7-fc78-a671a58c6616"
      },
      "execution_count": null,
      "outputs": [
        {
          "output_type": "stream",
          "name": "stdout",
          "text": [
            "[[0.73529412 0.44117647]\n",
            " [0.44117647 0.26470588]]\n"
          ]
        }
      ]
    },
    {
      "cell_type": "code",
      "source": [
        "np.dot(matriz_proyeccion,x)"
      ],
      "metadata": {
        "colab": {
          "base_uri": "https://localhost:8080/"
        },
        "id": "ehv6KJqxX-6-",
        "outputId": "e69d494c-3d99-4316-a373-6151c15530e5"
      },
      "execution_count": null,
      "outputs": [
        {
          "output_type": "execute_result",
          "data": {
            "text/plain": [
              "array([[1.61764706],\n",
              "       [0.97058824]])"
            ]
          },
          "metadata": {},
          "execution_count": 91
        }
      ]
    },
    {
      "cell_type": "code",
      "source": [
        "fig = plt.figure()\n",
        "ax = fig.add_subplot(111)\n",
        "plt.xlim(-1,3)\n",
        "plt.ylim(-1,4)\n",
        "\n",
        "plt.quiver(*np.vstack([0,0]),*b, scale=11, color=\"Black\", width= .01)\n",
        "plt.quiver(*np.vstack([0,0]),*vector_proyectado,scale=11,color=\"Blue\",width= .019)\n",
        "plt.quiver(*np.vstack([0,0]),*x,scale=11,color=\"red\",width= .01)\n",
        "#plt.scatter(sample[0], sample[1],color=\"orange\")\n",
        "ax.set_aspect('equal', adjustable='box')\n",
        "plt.title(\"Matriz\")\n",
        "plt.legend([\"b\",r\"Proyeccion\",\"x\"]);\n",
        "plt.grid()"
      ],
      "metadata": {
        "colab": {
          "base_uri": "https://localhost:8080/",
          "height": 281
        },
        "id": "zafkZliuYBn3",
        "outputId": "9d5bb495-2a5e-46aa-fe3c-140032804c53"
      },
      "execution_count": null,
      "outputs": [
        {
          "output_type": "display_data",
          "data": {
            "text/plain": [
              "<Figure size 432x288 with 1 Axes>"
            ],
            "image/png": "[encoded data removed]"
          },
          "metadata": {
            "needs_background": "light"
          }
        }
      ]
    },
    {
      "cell_type": "markdown",
      "source": [
        "# Punto 4\n",
        "> Utilizando un nuevo cuaderno de Jupyter Notebook y el lenguaje de programación Python, realiza las siguientes operaciones:\n",
        "1.   Genera una matriz cuadrada ![image.png](data:image/png;base64,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) y calcula su determinante y su traza.\n",
        "2.   Calcula el rango de la matriz generada y los valores de los coeficientes de su polinomio característico.\n",
        "3.   Encuentra las raíces polinomio característico de la matriz generada."
      ],
      "metadata": {
        "id": "vRnq1Gg0Dzrm"
      }
    },
    {
      "cell_type": "code",
      "source": [
        "Matriz = np.array([[6,2,5,7],[3,6,1,2],[5,8,4,3],[1,2,1,4]])\n",
        "print(Matriz)"
      ],
      "metadata": {
        "colab": {
          "base_uri": "https://localhost:8080/"
        },
        "id": "c2v6VhVxD1gX",
        "outputId": "89f8af92-49b4-4c7e-8817-999fb6f9d29f"
      },
      "execution_count": null,
      "outputs": [
        {
          "output_type": "stream",
          "name": "stdout",
          "text": [
            "[[6 2 5 7]\n",
            " [3 6 1 2]\n",
            " [5 8 4 3]\n",
            " [1 2 1 4]]\n"
          ]
        }
      ]
    },
    {
      "cell_type": "markdown",
      "source": [
        "### **Determinante**"
      ],
      "metadata": {
        "id": "hP4DkMbgpJ9C"
      }
    },
    {
      "cell_type": "code",
      "source": [
        "Determinante = np.linalg.det(Matriz)\n",
        "print(Determinante)"
      ],
      "metadata": {
        "colab": {
          "base_uri": "https://localhost:8080/"
        },
        "id": "O8p77THuquHI",
        "outputId": "40b8f52c-63e0-40dd-f738-41bc9a29dcb2"
      },
      "execution_count": null,
      "outputs": [
        {
          "output_type": "stream",
          "name": "stdout",
          "text": [
            "192.00000000000017\n"
          ]
        }
      ]
    },
    {
      "cell_type": "markdown",
      "source": [
        "### **Taza**"
      ],
      "metadata": {
        "id": "mQkdTxvCqu7w"
      }
    },
    {
      "cell_type": "code",
      "source": [
        "np.trace(Matriz)"
      ],
      "metadata": {
        "colab": {
          "base_uri": "https://localhost:8080/"
        },
        "id": "7O0IIyWdrd9A",
        "outputId": "a34b8283-4dad-4952-e168-34095d68855f"
      },
      "execution_count": null,
      "outputs": [
        {
          "output_type": "execute_result",
          "data": {
            "text/plain": [
              "20"
            ]
          },
          "metadata": {},
          "execution_count": 135
        }
      ]
    },
    {
      "cell_type": "markdown",
      "source": [
        "### **Rango**"
      ],
      "metadata": {
        "id": "GnVw8TWDrdOx"
      }
    },
    {
      "cell_type": "code",
      "source": [
        "Rango=npl.matrix_rank(Matriz)\n",
        "print(Rango)"
      ],
      "metadata": {
        "colab": {
          "base_uri": "https://localhost:8080/"
        },
        "id": "XiplcRxBs6gp",
        "outputId": "8d8d57ea-4f79-4974-a718-533a0d1d8ae9"
      },
      "execution_count": null,
      "outputs": [
        {
          "output_type": "stream",
          "name": "stdout",
          "text": [
            "4\n"
          ]
        }
      ]
    },
    {
      "cell_type": "markdown",
      "source": [
        "### **coeficientes de su polinomio**"
      ],
      "metadata": {
        "id": "dyMJwWfns6OB"
      }
    },
    {
      "cell_type": "code",
      "source": [
        "coeficiente = np.poly(Matriz)\n",
        "print(coeficiente)"
      ],
      "metadata": {
        "id": "BqKTkzWbtSOm",
        "colab": {
          "base_uri": "https://localhost:8080/"
        },
        "outputId": "22ee8845-0dc8-4b5d-a2b3-3b203c1b5df9"
      },
      "execution_count": null,
      "outputs": [
        {
          "output_type": "stream",
          "name": "stdout",
          "text": [
            "[   1.  -20.   95. -204.  192.]\n"
          ]
        }
      ]
    },
    {
      "cell_type": "markdown",
      "source": [
        "### **Raiz**"
      ],
      "metadata": {
        "id": "p7s90_kh1Ke3"
      }
    },
    {
      "cell_type": "code",
      "source": [
        "Raiz = np.roots(coeficiente)\n",
        "print(Raiz)"
      ],
      "metadata": {
        "id": "aIYL8XQk1MZA",
        "colab": {
          "base_uri": "https://localhost:8080/"
        },
        "outputId": "54f29b59-bb7f-4894-8d77-39110908a55f"
      },
      "execution_count": null,
      "outputs": [
        {
          "output_type": "stream",
          "name": "stdout",
          "text": [
            "[14.28273151+0.j          2.55443472+0.j          1.58141688+1.66182354j\n",
            "  1.58141688-1.66182354j]\n"
          ]
        }
      ]
    },
    {
      "cell_type": "markdown",
      "source": [
        "# Punto 5\n",
        "> 5.\tCalcula los autovalores y autovectores de la siguiente matriz: ![image.png](data:image/png;base64,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) realiza su autodescomposición y grafica los resultados obtenidos en un plano con Matplotlib.\n"
      ],
      "metadata": {
        "id": "bou3_JSLD2B3"
      }
    },
    {
      "cell_type": "code",
      "source": [
        "Matrizpunto5 = np.array([[5,1],[2,2]])\n",
        "print(Matrizpunto5)"
      ],
      "metadata": {
        "id": "NwTn0pqtEfe1",
        "colab": {
          "base_uri": "https://localhost:8080/"
        },
        "outputId": "99bed3d0-ee13-4d08-a0c6-9addc94927c1"
      },
      "execution_count": null,
      "outputs": [
        {
          "output_type": "stream",
          "name": "stdout",
          "text": [
            "[[5 1]\n",
            " [2 2]]\n"
          ]
        }
      ]
    },
    {
      "cell_type": "markdown",
      "source": [
        "V"
      ],
      "metadata": {
        "id": "DTcBGBQUCkN0"
      }
    },
    {
      "cell_type": "code",
      "source": [
        "Autovalores, Autovectores=np.linalg.eig(Matrizpunto5)\n",
        "autovector_1= npl.eig(Matrizpunto5)[1][:,1]\n",
        "autovector_2= npl.eig(Matrizpunto5)[1][:,0]\n",
        "print(Autovalores)\n",
        "print(\"\")\n",
        "print(Autovectores)\n",
        "print(\"\")\n",
        "print(autovector_1)\n",
        "print(autovector_2)"
      ],
      "metadata": {
        "colab": {
          "base_uri": "https://localhost:8080/"
        },
        "id": "Uzfa0_KpCnC8",
        "outputId": "63e3c930-164d-43b4-f4b9-cd3c5f785eec"
      },
      "execution_count": null,
      "outputs": [
        {
          "output_type": "stream",
          "name": "stdout",
          "text": [
            "[5.56155281 1.43844719]\n",
            "\n",
            "[[ 0.87192821 -0.27032301]\n",
            " [ 0.48963374  0.96276969]]\n",
            "\n",
            "[-0.27032301  0.96276969]\n",
            "[0.87192821 0.48963374]\n"
          ]
        }
      ]
    },
    {
      "cell_type": "markdown",
      "source": [
        "Grafico"
      ],
      "metadata": {
        "id": "YT5uqROQDNx4"
      }
    },
    {
      "cell_type": "code",
      "source": [
        "graficarVectores([Vector_1,Vector_2,autovector_1,autovector_2],['blue','red','black','gray'])\n",
        "plt.xlim(-.5, 3)\n",
        "plt.ylim(-.5, 3)\n",
        "plt.title(\"Matriz\")\n",
        "plt.legend([\"Vector 1\",\"Vector 2\",\"Autovector1\",\"Autovector2\"]);\n",
        "plt.grid()"
      ],
      "metadata": {
        "colab": {
          "base_uri": "https://localhost:8080/",
          "height": 336
        },
        "id": "YqNT3Ei1DNTY",
        "outputId": "ff4bbeea-805d-4fa6-c11b-e89b84f28599"
      },
      "execution_count": 179,
      "outputs": [
        {
          "output_type": "display_data",
          "data": {
            "text/plain": [
              "<Figure size 360x360 with 1 Axes>"
            ],
            "image/png": "[encoded data removed]"
          },
          "metadata": {
            "needs_background": "light"
          }
        }
      ]
    }
  ]
}